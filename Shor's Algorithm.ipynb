{
  "metadata": {
    "language_info": {
      "codemirror_mode": {
        "name": "python",
        "version": 3
      },
      "file_extension": ".py",
      "mimetype": "text/x-python",
      "name": "python",
      "nbconvert_exporter": "python",
      "pygments_lexer": "ipython3",
      "version": "3.8"
    },
    "kernelspec": {
      "name": "python",
      "display_name": "Python (Pyodide)",
      "language": "python"
    }
  },
  "nbformat_minor": 4,
  "nbformat": 4,
  "cells": [
    {
      "cell_type": "code",
      "source": "import matplotlib.pyplot as plt\nimport numpy as np\nimport random\nfrom qiskit import QuantumCircuit, Aer, transpile, assemble\nfrom qiskit.visualization import plot_histogram\nfrom math import gcd\nfrom numpy.random import randint\nimport pandas as pd\nfrom fractions import Fraction\nprint(\"Imports Successful\")",
      "metadata": {
        "trusted": true
      },
      "execution_count": null,
      "outputs": []
    },
    {
      "cell_type": "code",
      "source": "def c_amod15(a, power):\n    \"\"\"Controlled multiplication by a mod 15\"\"\"\n    if a not in [2,4,7,8,11,13]:\n        raise ValueError(\"'a' must be 2,4,7,8,11 or 13\")\n    U = QuantumCircuit(4)        \n    for iteration in range(power):\n        if a in [2,13]:\n            U.swap(0,1)\n            U.swap(1,2)\n            U.swap(2,3)\n        if a in [7,8]:\n            U.swap(2,3)\n            U.swap(1,2)\n            U.swap(0,1)\n        if a in [4, 11]:\n            U.swap(1,3)\n            U.swap(0,2)\n        if a in [7,11,13]:\n            for q in range(4):\n                U.x(q)\n    U = U.to_gate()\n    U.name = \"%i^%i mod 15\" % (a, power)\n    c_U = U.control()\n    return c_U",
      "metadata": {
        "trusted": true
      },
      "execution_count": null,
      "outputs": []
    },
    {
      "cell_type": "code",
      "source": "def qft_dagger(n):\n    \"\"\"n-qubit QFTdagger the first n qubits in circ\"\"\"\n    qc = QuantumCircuit(n)\n    # Don't forget the Swaps!\n    for qubit in range(n//2):\n        qc.swap(qubit, n-qubit-1)\n    for j in range(n):\n        for m in range(j):\n            qc.cp(-np.pi/float(2**(j-m)), m, j)\n        qc.h(j)\n    qc.name = \"QFT†\"\n    return qc",
      "metadata": {
        "trusted": true
      },
      "execution_count": null,
      "outputs": []
    },
    {
      "cell_type": "code",
      "source": "# Create QuantumCircuit with n_count counting qubits\n# plus 4 qubits for U to act on\nqc = QuantumCircuit(n_count + 4, n_count)\n\n# Initialize counting qubits\n# in state |+>\nfor q in range(n_count):\n    qc.h(q)\n    \n# And auxiliary register in state |1>\nqc.x(3+n_count)\n\n# Do controlled-U operations\nfor q in range(n_count):\n    qc.append(c_amod15(a, 2**q), \n             [q] + [i+n_count for i in range(4)])\n\n# Do inverse-QFT\nqc.append(qft_dagger(n_count), range(n_count))\n\n# Measure circuit\nqc.measure(range(n_count), range(n_count))\nqc.draw(fold=-1)  # -1 means 'do not fold' ",
      "metadata": {
        "trusted": true
      },
      "execution_count": null,
      "outputs": []
    },
    {
      "cell_type": "code",
      "source": "aer_sim = Aer.get_backend('aer_simulator')\nt_qc = transpile(qc, aer_sim)\nqobj = assemble(t_qc)\nresults = aer_sim.run(qobj).result()\ncounts = results.get_counts()\nplot_histogram(counts)",
      "metadata": {
        "trusted": true
      },
      "execution_count": null,
      "outputs": []
    },
    {
      "cell_type": "code",
      "source": "rows, measured_phases = [], []\nfor output in counts:\n    decimal = int(output, 2)  # Convert (base 2) string to decimal\n    phase = decimal/(2**n_count)  # Find corresponding eigenvalue\n    measured_phases.append(phase)\n    # Add these values to the rows in our table:\n    rows.append([f\"{output}(bin) = {decimal:>3}(dec)\", \n                 f\"{decimal}/{2**n_count} = {phase:.2f}\"])\n# Print the rows in a table\nheaders=[\"Register Output\", \"Phase\"]\ndf = pd.DataFrame(rows, columns=headers)\nprint(df)",
      "metadata": {
        "trusted": true
      },
      "execution_count": null,
      "outputs": []
    },
    {
      "cell_type": "code",
      "source": "# Get fraction that most closely resembles 0.666\n# with denominator < 15\nFraction(0.666).limit_denominator(15)",
      "metadata": {
        "trusted": true
      },
      "execution_count": null,
      "outputs": []
    },
    {
      "cell_type": "code",
      "source": "rows = []\nfor phase in measured_phases:\n    frac = Fraction(phase).limit_denominator(15)\n    rows.append([phase, f\"{frac.numerator}/{frac.denominator}\", frac.denominator])\n# Print as a table\nheaders=[\"Phase\", \"Fraction\", \"Guess for r\"]\ndf = pd.DataFrame(rows, columns=headers)\nprint(df)",
      "metadata": {
        "trusted": true
      },
      "execution_count": null,
      "outputs": []
    },
    {
      "cell_type": "code",
      "source": "def a2jmodN(a, j, N):\n    \"\"\"Compute a^{2^j} (mod N) by repeated squaring\"\"\"\n    for i in range(j):\n        a = np.mod(a**2, N)\n    return a",
      "metadata": {
        "trusted": true
      },
      "execution_count": null,
      "outputs": []
    },
    {
      "cell_type": "code",
      "source": "a2jmodN(7, 2049, 53)",
      "metadata": {
        "trusted": true
      },
      "execution_count": null,
      "outputs": []
    },
    {
      "cell_type": "code",
      "source": "N=15",
      "metadata": {
        "trusted": true
      },
      "execution_count": null,
      "outputs": []
    },
    {
      "cell_type": "code",
      "source": "np.random.seed(1) # This is to make sure we get reproduceable results\na = random.randint(2, 15)\nprint(a)",
      "metadata": {
        "trusted": true
      },
      "execution_count": null,
      "outputs": []
    },
    {
      "cell_type": "code",
      "source": "from math import gcd # greatest common divisor\ngcd(a, N)",
      "metadata": {
        "trusted": true
      },
      "execution_count": null,
      "outputs": []
    },
    {
      "cell_type": "code",
      "source": "def qpe_amod15(a):\n    n_count = 8\n    qc = QuantumCircuit(4+n_count, n_count)\n    for q in range(n_count):\n        qc.h(q)     # Initialize counting qubits in state |+>\n    qc.x(3+n_count) # And auxiliary register in state |1>\n    for q in range(n_count): # Do controlled-U operations\n        qc.append(c_amod15(a, 2**q), \n                 [q] + [i+n_count for i in range(4)])\n    qc.append(qft_dagger(n_count), range(n_count)) # Do inverse-QFT\n    qc.measure(range(n_count), range(n_count))\n    # Simulate Results\n    aer_sim = Aer.get_backend('aer_simulator')\n    # Setting memory=True below allows us to see a list of each sequential reading\n    t_qc = transpile(qc, aer_sim)\n    qobj = assemble(t_qc, shots=1)\n    result = aer_sim.run(qobj, memory=True).result()\n    readings = result.get_memory()\n    print(\"Register Reading: \" + readings[0])\n    phase = int(readings[0],2)/(2**n_count)\n    print(\"Corresponding Phase: %f\" % phase)\n    return phase",
      "metadata": {
        "trusted": true
      },
      "execution_count": null,
      "outputs": []
    },
    {
      "cell_type": "code",
      "source": "phase = qpe_amod15(a) # Phase = s/r\nFraction(phase).limit_denominator(15) # Denominator should (hopefully!) tell us r",
      "metadata": {
        "trusted": true
      },
      "execution_count": null,
      "outputs": []
    },
    {
      "cell_type": "code",
      "source": "frac = Fraction(phase).limit_denominator(15)\ns, r = frac.numerator, frac.denominator\nprint(r)",
      "metadata": {
        "trusted": true
      },
      "execution_count": null,
      "outputs": []
    },
    {
      "cell_type": "code",
      "source": "guesses = [gcd(a**(r//2)-1, N), gcd(a**(r//2)+1, N)]\nprint(guesses)",
      "metadata": {
        "trusted": true
      },
      "execution_count": null,
      "outputs": []
    },
    {
      "cell_type": "code",
      "source": "a = 7\nfactor_found = False\nattempt = 0\nwhile not factor_found:\n    attempt += 1\n    print(\"\\nAttempt %i:\" % attempt)\n    phase = qpe_amod15(a) # Phase = s/r\n    frac = Fraction(phase).limit_denominator(N) # Denominator should (hopefully!) tell us r\n    r = frac.denominator\n    print(\"Result: r = %i\" % r)\n    if phase != 0:\n        # Guesses for factors are gcd(x^{r/2} ±1 , 15)\n        guesses = [gcd(a**(r//2)-1, N), gcd(a**(r//2)+1, N)]\n        print(\"Guessed Factors: %i and %i\" % (guesses[0], guesses[1]))\n        for guess in guesses:\n            if guess not in [1,N] and (N % guess) == 0: # Check to see if guess is a factor\n                print(\"*** Non-trivial factor found: %i ***\" % guess)\n                factor_found = True",
      "metadata": {
        "trusted": true
      },
      "execution_count": null,
      "outputs": []
    },
    {
      "cell_type": "code",
      "source": "import qiskit.tools.jupyter\n%qiskit_version_table",
      "metadata": {
        "trusted": true
      },
      "execution_count": null,
      "outputs": []
    },
    {
      "cell_type": "code",
      "source": "",
      "metadata": {},
      "execution_count": null,
      "outputs": []
    }
  ]
}